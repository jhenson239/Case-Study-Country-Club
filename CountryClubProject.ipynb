{
 "cells": [
  {
   "cell_type": "code",
   "execution_count": 17,
   "id": "8946f09f-df4b-4322-8af3-b3ecf35576d5",
   "metadata": {},
   "outputs": [],
   "source": [
    "import sqlite3\n",
    "import pandas as pd\n"
   ]
  },
  {
   "cell_type": "code",
   "execution_count": 18,
   "id": "b2051a2a-db58-4ebc-86ec-a38f22f525b8",
   "metadata": {},
   "outputs": [],
   "source": [
    "conn = sqlite3.connect(r\"C:\\Users\\brand\\OneDrive\\Desktop\\Extract Here\\SQLFiles Tier 2\\sqlite_db_pythonsqlite.db\")\n",
    "cur = conn.cursor()"
   ]
  },
  {
   "cell_type": "code",
   "execution_count": 19,
   "id": "328a599e-dd1b-4af9-b5b5-90994fe6b8c1",
   "metadata": {},
   "outputs": [],
   "source": [
    "#Q10: Produce a list of facilities with a total revenue less than 1000\n"
   ]
  },
  {
   "cell_type": "code",
   "execution_count": 20,
   "id": "edf983cf-1b4a-404a-ba6d-63a4ccb21b01",
   "metadata": {},
   "outputs": [
    {
     "name": "stdout",
     "output_type": "stream",
     "text": [
      "('Anna', 'Mackenzie', '1')\n",
      "('Anne', 'Baker', '9')\n",
      "('Charles', 'Owen', '1')\n",
      "('David', 'Jones', '4')\n",
      "('David', 'Pinker', '13')\n",
      "('Douglas', 'Jones', '11')\n",
      "('Erica', 'Crumpet', '2')\n",
      "('Florence', 'Bader', '9')\n",
      "('Gerald', 'Butters', '1')\n",
      "('Henrietta', 'Rumney', '20')\n"
     ]
    }
   ],
   "source": [
    "#Q11: Produce a report of members and who recommended them in alphabetic surname,firstname order.\n",
    "\n",
    "for row in cur.execute(\"SELECT firstname,surname,recommendedby FROM Members WHERE Members.recommendedby > 0 ORDER BY firstname,surname LIMIT 10\"):\n",
    "    print(row)"
   ]
  },
  {
   "cell_type": "code",
   "execution_count": 21,
   "id": "4df17476-b081-4cb0-bd3d-9213c0313fd8",
   "metadata": {},
   "outputs": [],
   "source": [
    "#Q12: Find the facilities with their usage by member, but not guests\n",
    "\n"
   ]
  },
  {
   "cell_type": "code",
   "execution_count": 22,
   "id": "1ec692be-b023-465a-a533-8786baf25211",
   "metadata": {},
   "outputs": [
    {
     "name": "stdout",
     "output_type": "stream",
     "text": [
      "(1, 4, 1, '2012-07-03 08:00:00', 2)\n",
      "(4, 8, 1, '2012-07-03 10:00:00', 1)\n",
      "(0, 3, 1, '2012-07-03 11:00:00', 2)\n",
      "(5, 8, 1, '2012-07-03 15:00:00', 1)\n",
      "(3, 7, 1, '2012-07-03 19:00:00', 2)\n",
      "(6, 0, 2, '2012-07-04 09:00:00', 3)\n",
      "(15, 8, 2, '2012-07-04 12:00:00', 1)\n",
      "(8, 4, 3, '2012-07-04 13:30:00', 2)\n",
      "(14, 7, 2, '2012-07-04 14:00:00', 2)\n",
      "(7, 0, 2, '2012-07-04 15:00:00', 3)\n"
     ]
    }
   ],
   "source": [
    "#Q13: Find the facilities usage by month, but not guests\n",
    "for row in cur.execute(\"SELECT * FROM Bookings WHERE Bookings.memid > 0 ORDER BY Bookings.starttime LIMIT 10\"):\n",
    "    print(row)"
   ]
  },
  {
   "cell_type": "code",
   "execution_count": null,
   "id": "f1e35a99-b3a9-42dd-acb8-9293197259d4",
   "metadata": {},
   "outputs": [],
   "source": []
  }
 ],
 "metadata": {
  "kernelspec": {
   "display_name": "Python 3 (ipykernel)",
   "language": "python",
   "name": "python3"
  },
  "language_info": {
   "codemirror_mode": {
    "name": "ipython",
    "version": 3
   },
   "file_extension": ".py",
   "mimetype": "text/x-python",
   "name": "python",
   "nbconvert_exporter": "python",
   "pygments_lexer": "ipython3",
   "version": "3.11.7"
  }
 },
 "nbformat": 4,
 "nbformat_minor": 5
}
